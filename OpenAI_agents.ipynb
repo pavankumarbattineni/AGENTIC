{
 "cells": [
  {
   "cell_type": "code",
   "execution_count": 24,
   "id": "7d1044fa",
   "metadata": {},
   "outputs": [],
   "source": [
    "import os\n",
    "from dotenv import load_dotenv\n",
    "load_dotenv()\n",
    "\n",
    "api_key = os.environ.get(\"OPENAI_API_KEY\")\n",
    "\n",
    "if not api_key:\n",
    "    raise ValueError(\"OPENAI_API_KEY is not set in the environment variables.\")"
   ]
  },
  {
   "cell_type": "markdown",
   "id": "80c0561c",
   "metadata": {},
   "source": [
    "Agents in essence are LLM's that accomplish a specific task. They can be supplemented with tools,structured output, and handoff to other agents."
   ]
  },
  {
   "cell_type": "code",
   "execution_count": null,
   "id": "60946663",
   "metadata": {},
   "outputs": [],
   "source": [
    "from agents import Agent, Runner, trace\n",
    "\n",
    "agent = Agent(\n",
    "    name = \"Basic Agent\",\n",
    "    instructions = \"You are a helpful assistant.Respond all in Caps\",\n",
    "    \n",
    "    )\n",
    "\n",
    "result = await Runner.run(agent, \"who is narendra modi?\")\n",
    "result.final_output"
   ]
  },
  {
   "cell_type": "code",
   "execution_count": 12,
   "id": "7fa00352",
   "metadata": {},
   "outputs": [
    {
     "data": {
      "text/plain": [
       "'Mahendra Singh Dhoni, commonly known as MS Dhoni, is a former Indian cricketer and captain of the Indian national team. He is regarded as one of the greatest wicket-keeper batsmen and captains in the history of cricket. Dhoni led India to numerous significant victories, including the ICC T20 World Cup in 2007 and the ICC Cricket World Cup in 2011. He is known for his calm demeanor, strategic thinking, and exceptional finishing abilities in matches. After retiring from international cricket in 2020, he continues to play in the Indian Premier League (IPL) for the Chennai Super Kings (CSK).'"
      ]
     },
     "execution_count": 12,
     "metadata": {},
     "output_type": "execute_result"
    }
   ],
   "source": [
    "cricket_agent = Agent(\n",
    "    name = \"Cricket Agent\",\n",
    "    instructions=\"You are cricket assistant. If the question is related to the cricket only respond otherwise respond in a generic manner to give the error.\",\n",
    "    model = \"gpt-4o-mini\"\n",
    "\n",
    ")\n",
    "\n",
    "result = await Runner.run(cricket_agent, \"who is MS DHONI?\")\n",
    "result.final_output"
   ]
  },
  {
   "cell_type": "code",
   "execution_count": 13,
   "id": "b3d4137e",
   "metadata": {},
   "outputs": [
    {
     "name": "stdout",
     "output_type": "stream",
     "text": [
      "మహేంద్ర సింగ్ ధోనిని సాధారణంగా ఎం.ఎస్. ధోని అని పేరు పిలుస్తారు. అతను భారత క్రికెట్ జట్టు మాజీ క్రికెటర్ మరియు కెప్టెన్. ఆయన అసాధారణ నాయకత్వం, వికెట్-కీపింగ్ నైపుణ్యాలు, మరియు పరిమిత ఓవర్ల క్రికెట్‌లో ముగింపు సామర్థ్యాలకు ప్రసిద్ధి. 2007లో ICC T20 ప్రపంచ కప్, 2011లో ICC క్రికెట్ ప్రపంచ కప్, మరియు 2013లో ICC ఛాంపియన్స్ ట్రోఫీని గెలవడంలో దూకుడు చూపించాడు. భారత ప్రీమియర్ లీగ్ (IPL)లో కూడా అతని ప్రత్యేక స్థానం ఉంది. చెన్నై సూపర్ కింగ్స్ (CSK) కి అనేక ఛాంపియన్‌షిప్‌లు అందించాడు. ధోని క్రికెట్ చరిత్రలో ఒక గొప్ప వికెట్-కీపర్ బ్యాట్స్‌మాన్ మరియు కెప్టెన్‌గా పేరుపొందాడు.\n"
     ]
    }
   ],
   "source": [
    "language_agent = Agent(\n",
    "    name = \"Language Agent\",\n",
    "    instructions=\"you are a language expert. You are given a information related to cricket and you need to rewrite it in a different language\"\n",
    ")\n",
    "\n",
    "cricket_result = await Runner.run(cricket_agent, \"who is MS DHONI?\")\n",
    "translated_result = await Runner.run(language_agent, f\"Translate this cricket information into Telugu : {cricket_result.final_output}\")\n",
    "print(translated_result.final_output)"
   ]
  },
  {
   "cell_type": "markdown",
   "id": "f94cbce3",
   "metadata": {},
   "source": [
    "Structured outputs are a way to format the output of an llm in a structured manner."
   ]
  },
  {
   "cell_type": "code",
   "execution_count": 14,
   "id": "2d071104",
   "metadata": {},
   "outputs": [
    {
     "data": {
      "text/plain": [
       "PlayerHistory(player_name='MS Dhoni', runs_in_odi=10773, avg_in_odi=50.57, runs_in_T20=1617, avg_in_T20=37.6, runs_in_test=4876, avg_in_test=38.09, runs_in_ipl=4878, avg_in_ipl=39.79, highest_score_in_odi=183, highest_score_in_T20=56, highest_score_in_test=224, highest_score_in_ipl=84)"
      ]
     },
     "execution_count": 14,
     "metadata": {},
     "output_type": "execute_result"
    }
   ],
   "source": [
    "from pydantic import BaseModel\n",
    "from agents import Agent\n",
    "\n",
    "class PlayerHistory(BaseModel):\n",
    "    player_name : str\n",
    "    runs_in_odi : int\n",
    "    avg_in_odi : float\n",
    "    runs_in_T20 : int\n",
    "    avg_in_T20 : float\n",
    "    runs_in_test : int\n",
    "    avg_in_test : float\n",
    "    runs_in_ipl : int\n",
    "    avg_in_ipl : float\n",
    "    highest_score_in_odi : int\n",
    "    highest_score_in_T20 : int\n",
    "    highest_score_in_test : int\n",
    "    highest_score_in_ipl : int\n",
    "\n",
    "\n",
    "cric_agent = Agent(\n",
    "    name = \"cric agnet\",\n",
    "    instructions = \"you are a expert cricket agent when ever i entered a player name. you should output that as an actual desired player history\",\n",
    "    output_type = PlayerHistory\n",
    ")\n",
    "\n",
    "result = await Runner.run(cric_agent, \"MS dhoni\")\n",
    "result.final_output"
   ]
  },
  {
   "cell_type": "code",
   "execution_count": null,
   "id": "4314834d",
   "metadata": {},
   "outputs": [
    {
     "name": "stdout",
     "output_type": "stream",
     "text": [
      "Getting Movie release date for hari hara veera mallu\n",
      "QUERY hari hara veera mallu\n",
      "Answer movie_name='Hari Hara Veera Mallu' hero_name='Pawan Kalyan' heroine_name='Nidhhi Agerwal' budget=150.0 released_date='TBA'\n"
     ]
    }
   ],
   "source": [
    "from agents import agent, Runner, function_tool\n",
    "from pydantic import BaseModel\n",
    "from agents import WebSearchTool\n",
    "\n",
    "class MovieCast(BaseModel):\n",
    "    movie_name : str\n",
    "    hero_name : str\n",
    "    heroine_name : str\n",
    "    budget : float\n",
    "    released_date : str\n",
    "\n",
    "@function_tool\n",
    "def movie_release_date(movie: str) -> str:\n",
    "    print(f\"Getting Movie release date for {movie}\")\n",
    "    release_dates = {\n",
    "         \"hari hara veera mallu\" : \"24-07-2025\"\n",
    "    }\n",
    "    return release_dates.get(movie.lower(), \"TBA\")\n",
    "\n",
    "movie_agent = Agent(\n",
    "    name = \"movie agent\",\n",
    "    instructions= ( \"You are a movie expert. When a user gives a movie name, \"\n",
    "        \"If you not found the released date. You MUST use the `get_release_date` tool to get the release date. \"\n",
    "        \"Respond in the MovieCast format.\"),\n",
    "    tools=[movie_release_date, \n",
    "           WebSearchTool()],\n",
    "    output_type = MovieCast,\n",
    "    model = \"gpt-4o\"\n",
    ")\n",
    "\n",
    "while True:\n",
    "    query = input(\"Enter the movie name\")\n",
    "    if query.lower() == \"quit\":\n",
    "        break\n",
    "    result = await Runner.run(movie_agent, query)\n",
    "    print(\"QUERY\", query)\n",
    "    print(\"Answer\", result.final_output)"
   ]
  },
  {
   "cell_type": "markdown",
   "id": "3af87e7c",
   "metadata": {},
   "source": [
    "Handoffs - A way for an agents to invoke another agent"
   ]
  },
  {
   "cell_type": "code",
   "execution_count": 16,
   "id": "837ed175",
   "metadata": {},
   "outputs": [
    {
     "name": "stderr",
     "output_type": "stream",
     "text": [
      "Instructions must be a string or a function, got ('Given a particular programming topic, your job is to help come up with a tutorial. you will do that by crafting an outline.', 'After making the outline, hand it to the tutorial generator agent')\n"
     ]
    },
    {
     "name": "stdout",
     "output_type": "stream",
     "text": [
      "Inheritance in Python is a fundamental concept in object-oriented programming that allows a class (known as a child or derived class) to inherit attributes and methods from another class (known as a parent or base class). This promotes code reusability and establishes a relationship between different classes.\n",
      "\n",
      "### Basic Concepts\n",
      "\n",
      "1. **Parent Class**: The class whose properties and methods are inherited.\n",
      "2. **Child Class**: The class that inherits from the parent class.\n",
      "\n",
      "### Syntax\n",
      "\n",
      "```python\n",
      "class ParentClass:\n",
      "    # Parent class methods and attributes\n",
      "\n",
      "class ChildClass(ParentClass):\n",
      "    # Child class methods and attributes\n",
      "```\n",
      "\n",
      "### Example\n",
      "\n",
      "```python\n",
      "class Animal:\n",
      "    def __init__(self, name):\n",
      "        self.name = name\n",
      "\n",
      "    def speak(self):\n",
      "        print(f\"{self.name} makes a sound\")\n",
      "\n",
      "class Dog(Animal):\n",
      "    def speak(self):\n",
      "        print(f\"{self.name} barks\")\n",
      "\n",
      "class Cat(Animal):\n",
      "    def speak(self):\n",
      "        print(f\"{self.name} meows\")\n",
      "\n",
      "# Usage\n",
      "dog = Dog(\"Buddy\")\n",
      "dog.speak()  # Output: Buddy barks\n",
      "\n",
      "cat = Cat(\"Whiskers\")\n",
      "cat.speak()  # Output: Whiskers meows\n",
      "```\n",
      "\n",
      "### Key Points\n",
      "\n",
      "- **Method Overriding**: Child classes can override methods from the parent class, allowing for specialized behavior.\n",
      "- **Use of `super()`**: You can use the `super()` function to call the methods of the parent class.\n",
      "\n",
      "### Benefits\n",
      "\n",
      "- **Reusability**: Inherit common functionality to prevent code duplication.\n",
      "- **Organization**: Helps in organizing code into a hierarchy, reflecting real-world relationships.\n",
      "\n",
      "If you'd like an in-depth tutorial or specific examples, let me know!\n"
     ]
    }
   ],
   "source": [
    "from agents import Agent , Runner\n",
    "from pydantic import BaseModel\n",
    "\n",
    "class Tutorial(BaseModel):\n",
    "    outline : str\n",
    "    tutorial : str\n",
    "\n",
    "tutorial_generator = Agent(\n",
    "    name = \"tutorial-generator\",\n",
    "    handoff_description=\"Used for generating a tutorial based on an outline.\",\n",
    "    instructions=(\n",
    "        \"Given a programming topic and a outline, your job is to generate code snippets for each section of the outline.\",\n",
    "        \"Format the tutorial in markdown using a mix of text for explanation and code snippets for examples\",\n",
    "        \"Where it makes sense, include comments in the code snippets to further explain the code\"\n",
    "        ),\n",
    "    output_type=Tutorial\n",
    ")\n",
    "\n",
    "outline_builder = Agent(\n",
    "    name = \"Outline-Builder\",\n",
    "    instructions=(\n",
    "                \"Given a particular programming topic, your job is to help come up with a tutorial. you will do that by crafting an outline.\",\n",
    "                \"After making the outline, hand it to the tutorial generator agent\"\n",
    "                  ),\n",
    "        \n",
    "    \n",
    "    handoffs=[tutorial_generator]\n",
    ")\n",
    "\n",
    "\n",
    "tutorial_response = await Runner.run(outline_builder, \"inheritence in python\")\n",
    "print(tutorial_response.final_output)"
   ]
  },
  {
   "cell_type": "code",
   "execution_count": 17,
   "id": "d9b68c3e",
   "metadata": {},
   "outputs": [
    {
     "name": "stdout",
     "output_type": "stream",
     "text": [
      "Handing off to the history tutor agent\n"
     ]
    },
    {
     "data": {
      "text/plain": [
       "\"World War I occurred from 1914 to 1918. It began with the assassination of Archduke Franz Ferdinand of Austria-Hungary and involved many worldwide powers due to a complex system of alliances. The war primarily took place in Europe and was characterized by trench warfare and massive human casualties.\\n\\nWorld War II lasted from 1939 to 1945. It started when Germany, led by Adolf Hitler, invaded Poland, prompting Britain and France to declare war on Germany. This global conflict involved most of the world's nations and was marked by significant events such as the Holocaust, the bombing of Pearl Harbor, and the eventual use of atomic bombs on Hiroshima and Nagasaki.\""
      ]
     },
     "execution_count": 17,
     "metadata": {},
     "output_type": "execute_result"
    }
   ],
   "source": [
    "from agents import Agent, Runner, handoff, RunContextWrapper\n",
    "\n",
    "history_tutor_agent = Agent(\n",
    "    name=\"History Tutor\",\n",
    "    handoff_description=\"Specialist agent for historical questions\",\n",
    "    instructions=\"You provide assistance with historical queries. Explain important events and context clearly.\",\n",
    ")\n",
    "\n",
    "math_tutor_agent = Agent(\n",
    "    name=\"Math Tutor\",\n",
    "    handoff_description=\"Specialist agent for math questions\",\n",
    "    instructions=\"You provide assistance with math queries. Explain your reasoning at each step and include examples\"\n",
    ")\n",
    "\n",
    "\"\"\"\n",
    "    This is a type annotation used to describe the expected parameter ctx —\n",
    "    and it comes from the crewAI or agents style frameworks \n",
    "    that support multi-agent orchestration or function callbacks.\n",
    "\"\"\"\n",
    "\n",
    "def on_math_handoff(ctx : RunContextWrapper[None]):\n",
    "    print(\"Handing off to the math tutor agent\")\n",
    "\n",
    "def on_history_handoff(ctx : RunContextWrapper[None]):\n",
    "    print(\"Handing off to the history tutor agent\")\n",
    "\n",
    "triage_agent = Agent(\n",
    "    name=\"Triage Agent\",\n",
    "    instructions=\"You determine which agent to use based on the user's homework question.\" +\n",
    "                 \" If neither agent is relevant, provide a general response.\",\n",
    "    # handoffs=[history_tutor_agent, math_tutor_agent]\n",
    "    handoffs=[handoff(history_tutor_agent, on_handoff=on_history_handoff), handoff(math_tutor_agent, on_handoff=on_math_handoff)]\n",
    ")\n",
    "\n",
    "\n",
    "\n",
    "\n",
    "result = await Runner.run(triage_agent, \"when did the world-war 1&2 happened?\")\n",
    "result.final_output\n",
    "\n"
   ]
  },
  {
   "cell_type": "code",
   "execution_count": 18,
   "id": "b55ad975",
   "metadata": {},
   "outputs": [
    {
     "name": "stdout",
     "output_type": "stream",
     "text": [
      "Handing off to the math tutor agent\n"
     ]
    },
    {
     "data": {
      "text/plain": [
       "'The equation \\\\(2 + 2\\\\) is a simple addition problem.\\n\\n### Steps to Solve:\\n1. **Identify the Numbers**: We have two numbers: 2 and 2.\\n2. **Addition**: Addition combines these numbers to find a total. \\n\\n   \\\\[\\n   2 + 2 = 4\\n   \\\\]\\n\\n### Explanation:\\n- Addition is one of the basic operations in arithmetic, where you find the sum of numbers.\\n- Here, you start with the number 2, and you are adding 2 more to it.\\n- This results in the total of 4.\\n\\n### Example:\\n- If you have 2 apples and add 2 more apples, you have a total of 4 apples.\\n\\nTherefore, the sum of \\\\(2 + 2\\\\) is \\\\(4\\\\).'"
      ]
     },
     "execution_count": 18,
     "metadata": {},
     "output_type": "execute_result"
    }
   ],
   "source": [
    "result = await Runner.run(triage_agent, \"2+2\")\n",
    "result.final_output"
   ]
  },
  {
   "cell_type": "code",
   "execution_count": null,
   "id": "ccbc77cd",
   "metadata": {},
   "outputs": [
    {
     "name": "stdout",
     "output_type": "stream",
     "text": [
      "Escalating to manager agent : Customer is unable to process a refund due to the website displaying a blank page.\n",
      "Reason for escalation :  The issue is likely a technical problem with the website that requires further investigation by technical support or management.\n",
      "Creating ticket for issue: Customer is unable to process a refund due to the website displaying a blank page.\n",
      "I've created a ticket to address this issue for you. Our technical team will investigate the problem with the website. Your ticket ID is **12345**. We apologize for the inconvenience and appreciate your patience.\n"
     ]
    }
   ],
   "source": [
    "from agents import Agent, function_tool, handoff, RunContextWrapper, Runner\n",
    "from pydantic import BaseModel\n",
    "\n",
    "\n",
    "class ManagerEscalation(BaseModel):\n",
    "    issue : str # the issue being escalated\n",
    "    why : str # why can you not handle it? used for training in the future\n",
    "\n",
    "@function_tool\n",
    "def create_ticket(issue: str):\n",
    "    \"\"\"\n",
    "    Create a ticket in the system for an issue to be resolved.\n",
    "    \"\"\"\n",
    "    print(f\"Creating ticket for issue: {issue}\")\n",
    "    return \"Ticket created. ID: 12345\"\n",
    "    # In a real-world scenario, this would interact with a ticketing system\n",
    "\n",
    "manager_agent = Agent(\n",
    "    name=\"Manager\",\n",
    "    handoff_description=\"Handles escalated issues that require managerial attention\",\n",
    "    instructions=(\n",
    "        \"You handle escalated customer issues that the initial customer service agent could not resolve. \"\n",
    "        \"You will receive the issue and the reason for escalation. If the issue cannot be immediately resolved for the \"\n",
    "        \"customer, create a ticket in the system and inform the customer.\"\n",
    "    ),\n",
    "    tools=[create_ticket],\n",
    ")\n",
    "\n",
    "def on_manager_handoff(ctx : RunContextWrapper[None], input : ManagerEscalation):\n",
    "    print(\"Escalating to manager agent :\", input.issue)\n",
    "    print(\"Reason for escalation : \", input.why)\n",
    "\n",
    "customer_service_agent = Agent(\n",
    "    name=\"Customer_Service\",\n",
    "    instructions=\"You assist customers with general inquiries and basic troubleshooting. \" +\n",
    "    \"If the issue cannot be resolved, escalate it to the Manager along with the reason why you cannot fix the issue.\",\n",
    "\n",
    "    handoffs=[handoff(agent = manager_agent, input_type = ManagerEscalation, on_handoff = on_manager_handoff)]\n",
    ")\n",
    "\n",
    "\n",
    "\n",
    "result = await Runner.run(customer_service_agent, \"I want a refund, but your system won't let me process it. the website is just blank for me\")\n",
    "print(result.final_output)\n"
   ]
  },
  {
   "cell_type": "code",
   "execution_count": 53,
   "id": "9ffd1a28",
   "metadata": {},
   "outputs": [
    {
     "name": "stdout",
     "output_type": "stream",
     "text": [
      "Sure, here are five jokes for you:\n",
      "\n",
      "1. Why don't scientists trust atoms?  \n",
      "   Because they make up everything!\n",
      "\n",
      "2. How do you organize a space party?  \n",
      "   You planet!\n",
      "\n",
      "3. Why don't skeletons fight each other?  \n",
      "   They don't have the guts.\n",
      "\n",
      "4. What do you get when you cross a snowman and a vampire?  \n",
      "   Frostbite!\n",
      "\n",
      "5. Why did the scarecrow win an award?  \n",
      "   Because he was outstanding in his field!"
     ]
    }
   ],
   "source": [
    "from openai.types.responses import ResponseTextDeltaEvent\n",
    "from agents import Agent, Runner\n",
    "\n",
    "agent = Agent(\n",
    "    name=\"Joker\",\n",
    "    instructions=\"You are a helpful assistant.\",\n",
    "    )\n",
    "\n",
    "result = Runner.run_streamed(agent, input=\"Please tell me 5 jokes.\")\n",
    "async for event in result.stream_events():\n",
    "    if event.type == \"raw_response_event\" and isinstance(event.data, ResponseTextDeltaEvent):\n",
    "        print(event.data.delta, end=\"\", flush=True)\n",
    "\n"
   ]
  },
  {
   "cell_type": "code",
   "execution_count": 30,
   "id": "1b99b005",
   "metadata": {},
   "outputs": [
    {
     "name": "stdout",
     "output_type": "stream",
     "text": [
      "=== Run starting ===\n",
      "Agent updated: Joker\n",
      "-- Tool was called\n",
      "-- Tool output: 4\n",
      "-- Message output:\n",
      " Alright, here are four jokes for you:\n",
      "\n",
      "1. **Why don't scientists trust atoms?**\n",
      "   Because they make up everything!\n",
      "\n",
      "2. **What do you call fake spaghetti?**\n",
      "   An impasta!\n",
      "\n",
      "3. **Why did the scarecrow win an award?**\n",
      "   Because he was outstanding in his field!\n",
      "\n",
      "4. **How do you organize a space party?**\n",
      "   You planet!\n",
      "\n",
      "Enjoy! If you want to hear more or have specific requests, just let me know.\n",
      "=== Run complete ===\n"
     ]
    }
   ],
   "source": [
    "import asyncio\n",
    "import random\n",
    "from agents import Agent, ItemHelpers, Runner, function_tool\n",
    "\n",
    "@function_tool\n",
    "def how_many_jokes() -> int:\n",
    "    return random.randint(1, 10)\n",
    "\n",
    "\n",
    "agent = Agent(\n",
    "    name=\"Joker\",\n",
    "    instructions=\"First call the `how_many_jokes` tool, then tell that many jokes.\",\n",
    "    tools=[how_many_jokes],\n",
    "    )\n",
    "\n",
    "result = Runner.run_streamed(\n",
    "    agent,\n",
    "    input=\"Hello\",\n",
    "    )\n",
    "print(\"=== Run starting ===\")\n",
    "\n",
    "async for event in result.stream_events():\n",
    "        # We'll ignore the raw responses event deltas\n",
    "        if event.type == \"raw_response_event\":\n",
    "            continue\n",
    "        # When the agent updates, print that\n",
    "        elif event.type == \"agent_updated_stream_event\":\n",
    "            print(f\"Agent updated: {event.new_agent.name}\")\n",
    "            continue\n",
    "        # When items are generated, print them\n",
    "        elif event.type == \"run_item_stream_event\":\n",
    "            if event.item.type == \"tool_call_item\":\n",
    "                print(\"-- Tool was called\")\n",
    "            elif event.item.type == \"tool_call_output_item\":\n",
    "                print(f\"-- Tool output: {event.item.output}\")\n",
    "            elif event.item.type == \"message_output_item\":\n",
    "                print(f\"-- Message output:\\n {ItemHelpers.text_message_output(event.item)}\")\n",
    "            else:\n",
    "                pass  # Ignore other event types\n",
    "\n",
    "print(\"=== Run complete ===\")\n",
    "\n",
    "\n"
   ]
  },
  {
   "cell_type": "markdown",
   "id": "5cce8e4f",
   "metadata": {},
   "source": [
    "Guardrails are a way to validate the input and output of an agnet to insure proper usage"
   ]
  },
  {
   "cell_type": "code",
   "execution_count": null,
   "id": "f4b54e12",
   "metadata": {},
   "outputs": [],
   "source": [
    "from agents import Agent, RunContextWrapper, TResponseInputItem, GuardrailFunctionOutput, Runner, input_guardrail\n",
    "from pydantic import BaseModel\n",
    "\n",
    "class HomeworkCheatDetectionOutput(BaseModel):\n",
    "    attempt_cheat : bool\n",
    "    explanation : str\n",
    "\n",
    "homework_cheat_guardrails = Agent(\n",
    "    name = \"Homework Cheat Guardrail\",\n",
    "    instructions=(\n",
    "        \"Determine if the user's query resembles a typical homework assignment or exam question, indicating an attempt to cheat. General questions about concepts are acceptable.\"\n",
    "        \"Cheating: 'Fill in the blank: The capital of France is _____.'\"\n",
    "        \"Which of the following best describes photosynthesis? A) Cellular respiration B) Conversion of light energy C) Evaporation D) Fermentation.\"\n",
    "        \"Not-Cheating: 'What is the capital of France?', 'Explain photosynthesis.'\"\n",
    "        ),\n",
    "        output_type = HomeworkCheatDetectionOutput\n",
    "\n",
    ")\n",
    "\n",
    "@input_guardrail\n",
    "async def cheat_detection_guardrails(\n",
    "    ctx: RunContextWrapper[None], agent: Agent, input: str | list[TResponseInputItem]\n",
    "\n",
    ") -> GuardrailFunctionOutput:\n",
    "    \n",
    "    detection_result = await Runner.run(homework_cheat_guardrails, input)\n",
    "\n",
    "    return GuardrailFunctionOutput(\n",
    "        tripwire_triggered=detection_result.final_output.attempt_cheat,\n",
    "        output_info=detection_result.final_output\n",
    "    )\n",
    "\n",
    "study_helper_agent = Agent(\n",
    "    name = \"Study Helper Agent\",\n",
    "    instructions=\"You assis users in studying by explaining concepts or providing guidance, without directly solving homework or test questions.\",\n",
    "    model = \"gpt-4o\",\n",
    "    input_guardrails=[cheat_detection_guardrails]\n",
    ")\n",
    "\n"
   ]
  },
  {
   "cell_type": "code",
   "execution_count": 4,
   "id": "bf7d46b0",
   "metadata": {},
   "outputs": [
    {
     "name": "stdout",
     "output_type": "stream",
     "text": [
      "Homework cheat guardrail triggered\n",
      "Exception details: Guardrail InputGuardrail triggered tripwire\n"
     ]
    }
   ],
   "source": [
    "from agents import InputGuardrailTripwireTriggered\n",
    "\n",
    "try:\n",
    "    response = await Runner.run(study_helper_agent, \"Fill in the blank: The capital of France is ___.\")\n",
    "    print(\"Guardian didn't trigger\")\n",
    "    print(\"Response\", response.final_output)\n",
    "\n",
    "except InputGuardrailTripwireTriggered as e:\n",
    "    print(\"Homework cheat guardrail triggered\")\n",
    "    print(\"Exception details:\", str(e))"
   ]
  },
  {
   "cell_type": "code",
   "execution_count": 5,
   "id": "22ff5750",
   "metadata": {},
   "outputs": [
    {
     "name": "stdout",
     "output_type": "stream",
     "text": [
      "Guardian didn't trigger\n",
      "Response World War II had multiple causes, but one of the primary triggers was the aggressive expansion and militarization led by Nazi Germany under Adolf Hitler. The Treaty of Versailles, which ended World War I, had imposed harsh penalties on Germany, leading to economic hardship and political instability. This created conditions ripe for the rise of Hitler and the Nazi Party, who promised to restore Germany to its former glory.\n",
      "\n",
      "Key factors include:\n",
      "\n",
      "1. **Treaty of Versailles**: Placed heavy reparations on Germany, leading to economic struggle and resentment.\n",
      "   \n",
      "2. **Rise of Totalitarian Regimes**: In Germany, Italy, and Japan, authoritarian leaders pursued aggressive expansionist policies.\n",
      "\n",
      "3. **Expansionism**: Germany's invasion of Poland in 1939 directly triggered the war. Prior violations included reoccupation of the Rhineland, annexation of Austria, and the Munich Agreement's breach concerning Czechoslovakia.\n",
      "\n",
      "4. **Failure of Appeasement**: The Allies, particularly Britain and France, initially adopted a policy of appeasement, allowing Hitler to expand German territory in hopes of avoiding conflict.\n",
      "\n",
      "5. **League of Nations' Weakness**: The League of Nations failed to prevent aggression, lacking the power to enforce its decisions.\n",
      "\n",
      "These factors combined led to the outbreak of a global conflict in 1939.\n"
     ]
    }
   ],
   "source": [
    "from agents import InputGuardrailTripwireTriggered\n",
    "\n",
    "try:\n",
    "    response = await Runner.run(study_helper_agent, \"Whta is the main cause of world war - 2.\")\n",
    "    print(\"Guardian didn't trigger\")\n",
    "    print(\"Response\", response.final_output)\n",
    "\n",
    "except InputGuardrailTripwireTriggered as e:\n",
    "    print(\"Homework cheat guardrail triggered\")\n",
    "    print(\"Exception details:\", str(e))"
   ]
  },
  {
   "cell_type": "code",
   "execution_count": 12,
   "id": "53f187c3",
   "metadata": {},
   "outputs": [],
   "source": [
    "from pydantic import BaseModel\n",
    "from agents import (\n",
    "    Agent,\n",
    "    GuardrailFunctionOutput,\n",
    "    OutputGuardrailTripwireTriggered,\n",
    "    RunContextWrapper,\n",
    "    Runner,\n",
    "    output_guardrail\n",
    ")\n",
    "\n",
    "class MessageOutput(BaseModel):\n",
    "    response : str\n",
    "\n",
    "@output_guardrail\n",
    "async def forbidden_words_guardrail(\n",
    "    ctx: RunContextWrapper, agent: Agent, output: str\n",
    ") -> GuardrailFunctionOutput:\n",
    "    print(f\"Checking output for forbidden phrases: {output}\")\n",
    "\n",
    "    # Funny forbidden phrases to check\n",
    "    forbidden_phrases = [\"fart\", \"booger\", \"silly goose\"]\n",
    "\n",
    "    # Convert output to lowercase for case-insensitive comparison\n",
    "    output_lower = output.lower()\n",
    "\n",
    "    # Check which forbidden phrases are present in the response\n",
    "    found_phrases = [phrase for phrase in forbidden_phrases if phrase in output_lower]\n",
    "    trip_triggered = bool(found_phrases)\n",
    "\n",
    "    print(f\"Found forbidden phrases: {found_phrases}\")\n",
    "\n",
    "    return GuardrailFunctionOutput(\n",
    "        output_info={\n",
    "            \"reason\": \"Output contains forbidden phrases.\",\n",
    "            \"forbidden_phrases_found\": found_phrases,\n",
    "        },\n",
    "        tripwire_triggered=trip_triggered,\n",
    "    )\n",
    "\n",
    "agent = Agent(\n",
    "    name=\"customer support agent\",\n",
    "    instructions=\"You are a customer support agent. You help customers with their questions.\",\n",
    "    output_guardrails=[forbidden_words_guardrail],\n",
    "    model=\"gpt-4o-mini\",\n",
    ")"
   ]
  },
  {
   "cell_type": "code",
   "execution_count": 16,
   "id": "d0347e02",
   "metadata": {},
   "outputs": [
    {
     "name": "stdout",
     "output_type": "stream",
     "text": [
      "Checking output for forbidden phrases: Fart.\n",
      "Found forbidden phrases: ['fart']\n",
      "The agent said a bad word, agent is fired\n"
     ]
    }
   ],
   "source": [
    "try:\n",
    "    await Runner.run(agent, \"repeat the word fart\")\n",
    "    print(\"Guardrail didn't trip - this is unexpected\")\n",
    "except OutputGuardrailTripwireTriggered:\n",
    "    print(\"The agent said a bad word, agent is fired\")"
   ]
  },
  {
   "cell_type": "markdown",
   "id": "50c04fd7",
   "metadata": {},
   "source": [
    "MULTITURN CONVERSATION"
   ]
  },
  {
   "cell_type": "code",
   "execution_count": null,
   "id": "0769c938",
   "metadata": {},
   "outputs": [
    {
     "name": "stdout",
     "output_type": "stream",
     "text": [
      "You are now chatting with agent PK. Type 'q' to quit\n",
      "You:  hi\n",
      "Agent : Hello! How can I assist you today?\n",
      "You:  what was my previous message\n",
      "Agent : You said \"hi.\" How can I help you further?\n",
      "You:  l\n",
      "Agent : It looks like your message might be incomplete. Could you please provide more details?\n",
      "You:  q\n"
     ]
    }
   ],
   "source": [
    "from agents import Agent, Runner, TResponseInputItem\n",
    "\n",
    "agent = Agent(\n",
    "    name = \"agent\",\n",
    "instructions = (\n",
    "    \"You are a world-class AI tutor and explainer. Your job is to explain any concept in the world \"\n",
    "    \"with deep, structured, and layered understanding. For every question or topic you receive:\\n\\n\"\n",
    "    \"- Begin with a clear and engaging high-level overview.\\n\"\n",
    "    \"- Then explain the topic step-by-step, breaking it down into its fundamental components.\\n\"\n",
    "    \"- Include historical context, analogies, real-world examples, and technical depth as appropriate.\\n\"\n",
    "    \"- Clarify not only 'what' it is, but 'why' it matters and 'how' it works.\\n\"\n",
    "    \"- Anticipate common misconceptions and clear them up proactively.\\n\"\n",
    "    \"- Use diagrams, bullet points, numbered steps, and progressive deepening (beginner → intermediate → expert) where helpful.\\n\"\n",
    "    \"- Adapt your explanation to the user's knowledge level if known.\\n\"\n",
    "    \"- If the question is too broad, ask clarifying questions before answering.\\n\\n\"\n",
    "    \"Never give shallow or generic answers. Your goal is to leave the user with a powerful, lasting understanding of the topic. \"\n",
    "    \"You are not just answering questions — you are teaching and enlightening with depth, clarity, and insight.\"\n",
    ")\n",
    "\n",
    ")\n",
    "\n",
    "convo : list[TResponseInputItem] = []\n",
    "print(\"You are now chatting with agent PK. Type 'q' to quit\")\n",
    "\n",
    "while True:\n",
    "    user_input = input(\"You: \")\n",
    "    print(\"You: \", user_input)\n",
    "   \n",
    "    if user_input.lower() == 'q':\n",
    "        break\n",
    "\n",
    "    convo.append({\"content\" : user_input, \"role\" : \"user\"})\n",
    "    result = await Runner.run(agent, convo)\n",
    "    agent_reply = result.final_output\n",
    "    print(f\"Agent : {result.final_output}\")\n",
    "\n",
    "    convo.append({\"content\": agent_reply, \"role\": \"assistant\"})\n",
    "\n",
    "    \n"
   ]
  },
  {
   "cell_type": "code",
   "execution_count": 31,
   "id": "01a4cbdf",
   "metadata": {},
   "outputs": [
    {
     "name": "stdout",
     "output_type": "stream",
     "text": [
      "[{'content': 'hi', 'role': 'user'}, {'id': 'msg_687f3e926364819ab0135ef8ef24502b0606369053a6d45f', 'content': [{'annotations': [], 'text': 'Hello! How can I assist you today?', 'type': 'output_text', 'logprobs': []}], 'role': 'assistant', 'status': 'completed', 'type': 'message'}, {'content': 'what was my previous message ', 'role': 'user'}, {'id': 'msg_687f3e9d5af4819a9f809613260c08200606369053a6d45f', 'content': [{'annotations': [], 'text': 'Your previous message was \"hi.\"', 'type': 'output_text', 'logprobs': []}], 'role': 'assistant', 'status': 'completed', 'type': 'message'}, {'content': 'q', 'role': 'user'}, {'id': 'msg_687f3ea82424819aa25733972145d6b70606369053a6d45f', 'content': [{'annotations': [], 'text': 'How can I help you with \"q\"?', 'type': 'output_text', 'logprobs': []}], 'role': 'assistant', 'status': 'completed', 'type': 'message'}]\n"
     ]
    }
   ],
   "source": [
    "print(convo)"
   ]
  },
  {
   "cell_type": "code",
   "execution_count": 49,
   "id": "01d71885",
   "metadata": {},
   "outputs": [
    {
     "name": "stdout",
     "output_type": "stream",
     "text": [
      "You are now chatting with agent PK. Type 'q' to quit.\n",
      "Triage Agent: Hello! How can I assist you with your homework today?\n",
      "Triage Agent: I have two specialist agents available to assist with specific topics:\n",
      "\n",
      "1. **History Tutor**: For questions related to history.\n",
      "2. **Math Tutor**: For questions related to mathematics.\n",
      "\n",
      "Feel free to ask questions in these areas!\n",
      "Triage Agent: You asked about all the available agents. Would you like to know more about their capabilities?\n",
      "Triage Agent: Is there anything specific you need help with?\n",
      "Goodbye!\n"
     ]
    }
   ],
   "source": [
    "from agents import Agent, Runner, handoff, RunContextWrapper\n",
    "\n",
    "# Callback functions\n",
    "def on_math_handoff(ctx: RunContextWrapper[None]):\n",
    "    print(\" Handing off to the math tutor agent\")\n",
    "\n",
    "def on_history_handoff(ctx: RunContextWrapper[None]):\n",
    "    print(\" Handing off to the history tutor agent\")\n",
    "\n",
    "# Define specialist agents\n",
    "math_tutor_agent = Agent(\n",
    "    name=\"Math Tutor\",\n",
    "    handoff_description=\"Specialist agent for math questions\",\n",
    "    instructions=\"You provide assistance with math queries. Explain your reasoning at each step and include examples.\",\n",
    "    handoffs=[]  # We'll add handoffs after both agents are defined\n",
    ")\n",
    "\n",
    "history_tutor_agent = Agent(\n",
    "    name=\"History Tutor\",\n",
    "    handoff_description=\"Specialist agent for historical questions\",\n",
    "    instructions=\"You provide assistance with historical queries. Explain important events and context clearly.\",\n",
    "    handoffs=[]\n",
    ")\n",
    "\n",
    "# Add cross-handoffs now that both are defined\n",
    "math_tutor_agent.handoffs = [handoff(history_tutor_agent, on_handoff=on_history_handoff)]\n",
    "history_tutor_agent.handoffs = [handoff(math_tutor_agent, on_handoff=on_math_handoff)]\n",
    "\n",
    "# Define triage agent\n",
    "triage_agent = Agent(\n",
    "    name=\"Triage Agent\",\n",
    "    instructions=\"You determine which agent to use based on the user's homework question. If neither agent is relevant, provide a general response.\",\n",
    "    handoffs=[\n",
    "        handoff(history_tutor_agent, on_handoff=on_history_handoff),\n",
    "        handoff(math_tutor_agent, on_handoff=on_math_handoff)\n",
    "    ]\n",
    ")\n",
    "\n",
    "# Conversation memory (chat history)\n",
    "convo: list[dict] = []\n",
    "last_agent = triage_agent\n",
    "\n",
    "print(\"You are now chatting with agent PK. Type 'q' to quit.\")\n",
    "\n",
    "# Chat loop\n",
    "while True:\n",
    "    user_input = input(\"You: \")\n",
    "\n",
    "    if user_input.lower() == 'q':\n",
    "        print(\"Goodbye!\")\n",
    "        break\n",
    "\n",
    "    # Add user input to convo history\n",
    "    convo.append({\"role\": \"user\", \"content\": user_input})\n",
    "\n",
    "    # Run the agent using the full convo\n",
    "    result = await Runner.run(last_agent, convo)\n",
    "\n",
    "    # Append agent's reply\n",
    "    agent_reply = result.final_output\n",
    "    convo.append({\"role\": \"assistant\", \"content\": agent_reply})\n",
    "\n",
    "    # Update agent\n",
    "    last_agent = result.last_agent\n",
    "\n",
    "    # Print reply\n",
    "    print(f\"{last_agent.name}: {agent_reply}\")\n"
   ]
  },
  {
   "cell_type": "code",
   "execution_count": 48,
   "id": "14b0e7d1",
   "metadata": {},
   "outputs": [
    {
     "name": "stdout",
     "output_type": "stream",
     "text": [
      "[{'content': 'hi', 'role': 'user'}, {'content': 'Hello! How can I assist you today? Are you working on any homework or need help with something specific?', 'role': 'assistant'}, {'content': 'what was the previous question i asked you', 'role': 'user'}, {'content': \"I'm unable to recall previous questions as I don’t have access to past interactions. Could you please ask your question again?\", 'role': 'assistant'}]\n"
     ]
    }
   ],
   "source": [
    "print(convo)"
   ]
  },
  {
   "cell_type": "markdown",
   "id": "2b07256d",
   "metadata": {},
   "source": [
    "Context - A way to pass along data during the agent's lifecycle."
   ]
  },
  {
   "cell_type": "code",
   "execution_count": null,
   "id": "3a4be704",
   "metadata": {},
   "outputs": [
    {
     "name": "stdout",
     "output_type": "stream",
     "text": [
      "You are now chatting with the shopping assistant. Type 'exit' to end the conversation.\n",
      "Getting account balance\n",
      "Shopping Assistant: Sure, I can help you with that. Your budget is $100. What items do you need to include in your shopping list?\n",
      "Shopping Assistant: Great! Do you have specific clothing items in mind, or would you like suggestions? What are your preferences or needs in terms of style, occasion, or type of clothing?\n",
      "Shopping Assistant: Could you specify what type of clothes you're interested in? For example, are you looking for casual wear, formal wear, or something specific like jeans, shirts, or dresses?\n",
      "Searching for item\n",
      "Searching for item\n",
      "Shopping Assistant: I'm having trouble searching for items right now. Let's estimate the cost instead.\n",
      "\n",
      "How about allocating $25 for the white shirt and $40 for the black pants? This keeps $35 remaining in your budget. Does that sound good, or would you like to adjust the amounts?\n",
      "Shopping Assistant: Great! What grocery items do you need to add to your list?\n",
      "Shopping Assistant: Hi! Just let me know the grocery items you'd like to add to your list.\n",
      "Shopping Assistant: Here are some common grocery items you might need daily:\n",
      "\n",
      "1. Bread\n",
      "2. Milk\n",
      "3. Eggs\n",
      "4. Rice\n",
      "5. Pasta\n",
      "6. Fresh vegetables (e.g., tomatoes, lettuce, carrots)\n",
      "7. Fruits (e.g., apples, bananas)\n",
      "8. Cereal\n",
      "9. Butter or margarine\n",
      "10. Cheese\n",
      "11. Chicken or another protein source\n",
      "12. Coffee or tea\n",
      "13. Sugar\n",
      "14. Flour\n",
      "15. Cooking oil\n",
      "16. Salt and pepper\n",
      "17. Yogurt\n",
      "18. Canned goods (e.g., beans, tomatoes)\n",
      "19. Snacks (e.g., nuts, chips)\n",
      "20. Juice or soft drinks\n",
      "\n",
      "Let me know if you'd like to add any of these to your list.\n",
      "Shopping Assistant: Is there anything specific you want to add from the list, or would you like recommendations? Let me know how I can assist further!\n",
      "Searching for item\n",
      "Shopping Assistant: I'm still experiencing issues with searching for prices. Let's estimate their costs:\n",
      "\n",
      "- Eggs: $3\n",
      "- Milk: $4\n",
      "- Chicken: $10\n",
      "\n",
      "This totals $17. Combined with your clothing items ($65), you're at $82, leaving you with $18 in your budget. Would you like to add anything else or make any changes?\n",
      "Shopping Assistant: Feel free to let me know if you'd like to add more items or need further assistance with your shopping list!\n",
      "Goodbye!\n"
     ]
    }
   ],
   "source": [
    "from dataclasses import dataclass\n",
    "from agents import Agent, RunContextWrapper, TResponseInputItem, WebSearchTool\n",
    "\n",
    "@dataclass\n",
    "class UserProfile:\n",
    "    id : str\n",
    "    name : str\n",
    "    shopping_cart : list[str]\n",
    "\n",
    "\n",
    "@function_tool\n",
    "async def get_budget(wrapper : RunContextWrapper[UserProfile]):\n",
    "    \"\"\"Get the account balance of the user using the user's id and their linked bank account\"\"\"\n",
    "\n",
    "    print(\"Getting account balance\")\n",
    "    user_id = wrapper.context.id\n",
    "\n",
    "    #pretend we are fetching the account balance from a database\n",
    "\n",
    "    return 100.0\n",
    "\n",
    "@function_tool\n",
    "async def search_for_item(wrapper: RunContextWrapper[UserProfile], item: str) -> str:\n",
    "    \"\"\"\n",
    "    Search for an item in the database\n",
    "    \"\"\"\n",
    "    print(\"Searching for item\")\n",
    "    # randomly generate a price for the item\n",
    "    price = random.randint(1, 100)\n",
    "    return f\"Found {item} in the database for ${price}.00\"\n",
    "\n",
    "@function_tool\n",
    "async def get_shopping_cart(wrapper: RunContextWrapper[UserProfile]) -> list[str]:\n",
    "    print(\"Getting shopping cart\")\n",
    "    return wrapper.context.shopping_cart\n",
    "\n",
    "@function_tool\n",
    "async def add_to_shopping_cart(wrapper: RunContextWrapper[UserProfile], items: list[str]) -> None:\n",
    "    print(\"Adding items to shopping cart\")\n",
    "    wrapper.context.shopping_cart.extend(items)\n",
    "\n",
    "@function_tool\n",
    "async def purchase_items(wrapper: RunContextWrapper[UserProfile]) -> None:\n",
    "    print(\"Purchasing items\")\n",
    "    \n",
    "    # We could take the items from the shopping cart and purchase them using some external API\n",
    "    # For now, we'll just print a message\n",
    "    print(f\"Successfully purchased items: {wrapper.context.shopping_cart}\")\n",
    "search = WebSearchTool()\n",
    "\n",
    "shopping_agent = Agent[UserProfile](\n",
    "    name=\"Shopping Assistant\",\n",
    "    instructions=(\n",
    "        \"You are a shopping assistant dedicated to helping the user with their grocery shopping needs.\"\n",
    "        \"Your primary role is to assist in creating a shopping plan that fits within the user's budget.\"\n",
    "        \"Start by getting the user's budget using the tool get_budget.\"\n",
    "        \"Provide suggestions for items if requested, and always aim to keep the total cost within the user's budget.\"\n",
    "        \"If the user is nearing or exceeding their budget, inform them and suggest alternatives or adjustments to the shopping list.\"\n",
    "        \"If the user authorizes it, you can purchase the items using the tool purchase_items.\"\n",
    "    ),\n",
    "    tools=[get_shopping_cart\n",
    "    \n",
    "    \n",
    "    \n",
    "    , add_to_shopping_cart, get_budget, search_for_item, purchase_items, search],\n",
    ")\n",
    "\n",
    "profile = UserProfile(id=\"123\", name=\"Alex\", shopping_cart=[])\n",
    "print(\"You are now chatting with the shopping assistant. Type 'exit' to end the conversation.\")\n",
    "convo_items : list[TResponseInputItem] = []\n",
    "while True:\n",
    "    user_input = input(\"You: \")\n",
    "    \n",
    "    if user_input == \"q\":\n",
    "        print(\"Goodbye!\")\n",
    "        break\n",
    "\n",
    "    convo_items.append({\"content\": user_input, \"role\": \"user\"})\n",
    "    result = await Runner.run(shopping_agent, convo_items, context=profile)\n",
    "\n",
    "\n",
    "    print(f\"Shopping Assistant: {result.final_output}\")\n",
    "\n",
    "    convo_items = result.to_input_list()\n",
    "\n"
   ]
  }
 ],
 "metadata": {
  "kernelspec": {
   "display_name": "myenv",
   "language": "python",
   "name": "python3"
  },
  "language_info": {
   "codemirror_mode": {
    "name": "ipython",
    "version": 3
   },
   "file_extension": ".py",
   "mimetype": "text/x-python",
   "name": "python",
   "nbconvert_exporter": "python",
   "pygments_lexer": "ipython3",
   "version": "3.10.12"
  }
 },
 "nbformat": 4,
 "nbformat_minor": 5
}
