{
 "cells": [
  {
   "cell_type": "code",
   "execution_count": 32,
   "id": "ce25749a",
   "metadata": {},
   "outputs": [
    {
     "data": {
      "text/plain": [
       "True"
      ]
     },
     "execution_count": 32,
     "metadata": {},
     "output_type": "execute_result"
    }
   ],
   "source": [
    "from dotenv import load_dotenv\n",
    "load_dotenv()\n"
   ]
  },
  {
   "cell_type": "code",
   "execution_count": 33,
   "id": "5b19821b",
   "metadata": {},
   "outputs": [],
   "source": [
    "from langchain.chat_models import ChatOpenAI\n",
    "import os\n"
   ]
  },
  {
   "cell_type": "code",
   "execution_count": 34,
   "id": "8e193430",
   "metadata": {},
   "outputs": [],
   "source": [
    "llm = ChatOpenAI(model=\"gpt-3.5-turbo\", temperature=0)\n"
   ]
  },
  {
   "cell_type": "code",
   "execution_count": 25,
   "id": "79441dfd",
   "metadata": {},
   "outputs": [
    {
     "name": "stdout",
     "output_type": "stream",
     "text": [
      "The capital of Andhra Pradesh is Amaravati.\n"
     ]
    }
   ],
   "source": [
    "response = llm.predict(\"What is the capital of Andhra pradesh?\")\n",
    "print(response)\n"
   ]
  },
  {
   "cell_type": "code",
   "execution_count": 51,
   "id": "c5d8d347",
   "metadata": {},
   "outputs": [],
   "source": [
    "import nest_asyncio\n",
    "nest_asyncio.apply()\n"
   ]
  },
  {
   "cell_type": "code",
   "execution_count": 52,
   "id": "dddddc25",
   "metadata": {},
   "outputs": [],
   "source": [
    "from playwright.async_api import async_playwright\n",
    "import asyncio\n",
    "import re\n",
    "from langchain.chat_models import ChatOpenAI\n",
    "from langchain.schema import SystemMessage, HumanMessage\n"
   ]
  },
  {
   "cell_type": "code",
   "execution_count": 53,
   "id": "381837f6",
   "metadata": {},
   "outputs": [],
   "source": [
    "def extract_site_from_instruction(instruction: str) -> str:\n",
    "    known_sites = {\n",
    "        \"amazon\": \"https://www.amazon.in\",\n",
    "        \"flipkart\": \"https://www.flipkart.com\",\n",
    "        \"myntra\": \"https://www.myntra.com\",\n",
    "        \"youtube\": \"https://www.youtube.com\",\n",
    "        \"google\": \"https://www.google.com\"\n",
    "    }\n",
    "    for keyword, url in known_sites.items():\n",
    "        if keyword in instruction.lower():\n",
    "            return url\n",
    "    return \"https://www.google.com\"\n"
   ]
  },
  {
   "cell_type": "code",
   "execution_count": 54,
   "id": "c92689aa",
   "metadata": {},
   "outputs": [],
   "source": [
    "async def extract_dom_elements(page, max_elements=25):\n",
    "    elements = await page.query_selector_all(\"*\")\n",
    "    visible_elements = []\n",
    "\n",
    "    for el in elements:\n",
    "        try:\n",
    "            tag = await el.get_property(\"tagName\")\n",
    "            tag = await tag.json_value()\n",
    "            text = await el.inner_text()\n",
    "            selector = await page.evaluate('(el) => el.outerHTML', el)\n",
    "            if text.strip():\n",
    "                visible_elements.append({\n",
    "                    \"tag\": tag,\n",
    "                    \"text\": text.strip(),\n",
    "                    \"html\": selector[:120] + \"...\"  # Shortened\n",
    "                })\n",
    "            if len(visible_elements) >= max_elements:\n",
    "                break\n",
    "        except:\n",
    "            continue\n",
    "\n",
    "    return visible_elements\n"
   ]
  },
  {
   "cell_type": "code",
   "execution_count": 55,
   "id": "35c9b562",
   "metadata": {},
   "outputs": [],
   "source": [
    "llm = ChatOpenAI(temperature=0, model=\"gpt-4o\")  # Use gpt-3.5 if needed\n",
    "\n",
    "async def run_web_task(task_instruction: str):\n",
    "    async with async_playwright() as p:\n",
    "        browser = await p.chromium.launch(headless=True)\n",
    "        page = await browser.new_page()\n",
    "\n",
    "        # 🌐 Step 1: Open site based on instruction\n",
    "        site = extract_site_from_instruction(task_instruction)\n",
    "        print(f\"🌐 Navigating to: {site}\")\n",
    "        await page.goto(site)\n",
    "\n",
    "        for step in range(3):  # Max 3 LLM-action loops\n",
    "            print(f\"\\n🔁 Step {step + 1}\")\n",
    "            dom_snapshot = await extract_dom_elements(page)\n",
    "\n",
    "            prompt = [\n",
    "                SystemMessage(content=\"You are a web automation agent. Based on DOM and instruction, decide next action.\"),\n",
    "                HumanMessage(content=f\"Task: {task_instruction}\\n\\nDOM:\\n{dom_snapshot}\")\n",
    "            ]\n",
    "\n",
    "            action = llm.predict_messages(prompt).content\n",
    "            print(\"🧠 LLM Action:\", action)\n",
    "\n",
    "            # Very basic parsing (to be improved)\n",
    "            if \"goto\" in action:\n",
    "                match = re.search(r\"goto\\(['\\\"](.+?)['\\\"]\\)\", action)\n",
    "                if match:\n",
    "                    await page.goto(match.group(1))\n",
    "                    continue\n",
    "            elif \"click\" in action and \"text=\" in action:\n",
    "                match = re.search(r\"text=['\\\"](.+?)['\\\"]\", action)\n",
    "                if match:\n",
    "                    await page.click(f\"text={match.group(1)}\")\n",
    "                    continue\n",
    "            elif \"type\" in action:\n",
    "                match = re.findall(r\"type\\(['\\\"](.+?)['\\\"], ['\\\"](.+?)['\\\"]\\)\", action)\n",
    "                if match:\n",
    "                    selector, value = match[0]\n",
    "                    await page.fill(selector, value)\n",
    "                    continue\n",
    "            elif \"return\" in action and \"href\" in action:\n",
    "                links = await page.query_selector_all(\"a\")\n",
    "                for link in links:\n",
    "                    href = await link.get_attribute(\"href\")\n",
    "                    if href and \"http\" in href:\n",
    "                        await browser.close()\n",
    "                        return href\n",
    "            \n",
    "            await page.wait_for_timeout(2000)\n",
    "\n",
    "        await browser.close()\n",
    "        return \"❌ Task limit exceeded or no valid action.\"\n"
   ]
  },
  {
   "cell_type": "code",
   "execution_count": 56,
   "id": "ad1f74b6",
   "metadata": {},
   "outputs": [
    {
     "name": "stdout",
     "output_type": "stream",
     "text": [
      "🌐 Navigating to: https://www.myntra.com\n"
     ]
    },
    {
     "ename": "Error",
     "evalue": "Page.goto: net::ERR_HTTP2_PROTOCOL_ERROR at https://www.myntra.com/\nCall log:\n  - navigating to \"https://www.myntra.com/\", waiting until \"load\"\n",
     "output_type": "error",
     "traceback": [
      "\u001b[0;31m---------------------------------------------------------------------------\u001b[0m",
      "\u001b[0;31mError\u001b[0m                                     Traceback (most recent call last)",
      "Cell \u001b[0;32mIn[56], line 2\u001b[0m\n\u001b[1;32m      1\u001b[0m instruction \u001b[38;5;241m=\u001b[39m \u001b[38;5;124m\"\u001b[39m\u001b[38;5;124mSearch for a brown Campus Sutra shirt on Myntra and return the product URL\u001b[39m\u001b[38;5;124m\"\u001b[39m\n\u001b[0;32m----> 2\u001b[0m result \u001b[38;5;241m=\u001b[39m \u001b[38;5;28;01mawait\u001b[39;00m run_web_task(instruction)\n\u001b[1;32m      3\u001b[0m \u001b[38;5;28mprint\u001b[39m(\u001b[38;5;124m\"\u001b[39m\u001b[38;5;124m✅ Final Result:\u001b[39m\u001b[38;5;124m\"\u001b[39m, result)\n",
      "Cell \u001b[0;32mIn[55], line 11\u001b[0m, in \u001b[0;36mrun_web_task\u001b[0;34m(task_instruction)\u001b[0m\n\u001b[1;32m      9\u001b[0m site \u001b[38;5;241m=\u001b[39m extract_site_from_instruction(task_instruction)\n\u001b[1;32m     10\u001b[0m \u001b[38;5;28mprint\u001b[39m(\u001b[38;5;124mf\u001b[39m\u001b[38;5;124m\"\u001b[39m\u001b[38;5;124m🌐 Navigating to: \u001b[39m\u001b[38;5;132;01m{\u001b[39;00msite\u001b[38;5;132;01m}\u001b[39;00m\u001b[38;5;124m\"\u001b[39m)\n\u001b[0;32m---> 11\u001b[0m \u001b[38;5;28;01mawait\u001b[39;00m page\u001b[38;5;241m.\u001b[39mgoto(site)\n\u001b[1;32m     13\u001b[0m \u001b[38;5;28;01mfor\u001b[39;00m step \u001b[38;5;129;01min\u001b[39;00m \u001b[38;5;28mrange\u001b[39m(\u001b[38;5;241m3\u001b[39m):  \u001b[38;5;66;03m# Max 3 LLM-action loops\u001b[39;00m\n\u001b[1;32m     14\u001b[0m     \u001b[38;5;28mprint\u001b[39m(\u001b[38;5;124mf\u001b[39m\u001b[38;5;124m\"\u001b[39m\u001b[38;5;130;01m\\n\u001b[39;00m\u001b[38;5;124m🔁 Step \u001b[39m\u001b[38;5;132;01m{\u001b[39;00mstep\u001b[38;5;250m \u001b[39m\u001b[38;5;241m+\u001b[39m\u001b[38;5;250m \u001b[39m\u001b[38;5;241m1\u001b[39m\u001b[38;5;132;01m}\u001b[39;00m\u001b[38;5;124m\"\u001b[39m)\n",
      "File \u001b[0;32m~/AGENTIC/myenv/lib/python3.10/site-packages/playwright/async_api/_generated.py:8975\u001b[0m, in \u001b[0;36mPage.goto\u001b[0;34m(self, url, timeout, wait_until, referer)\u001b[0m\n\u001b[1;32m   8914\u001b[0m \u001b[38;5;28;01masync\u001b[39;00m \u001b[38;5;28;01mdef\u001b[39;00m\u001b[38;5;250m \u001b[39m\u001b[38;5;21mgoto\u001b[39m(\n\u001b[1;32m   8915\u001b[0m     \u001b[38;5;28mself\u001b[39m,\n\u001b[1;32m   8916\u001b[0m     url: \u001b[38;5;28mstr\u001b[39m,\n\u001b[0;32m   (...)\u001b[0m\n\u001b[1;32m   8922\u001b[0m     referer: typing\u001b[38;5;241m.\u001b[39mOptional[\u001b[38;5;28mstr\u001b[39m] \u001b[38;5;241m=\u001b[39m \u001b[38;5;28;01mNone\u001b[39;00m,\n\u001b[1;32m   8923\u001b[0m ) \u001b[38;5;241m-\u001b[39m\u001b[38;5;241m>\u001b[39m typing\u001b[38;5;241m.\u001b[39mOptional[\u001b[38;5;124m\"\u001b[39m\u001b[38;5;124mResponse\u001b[39m\u001b[38;5;124m\"\u001b[39m]:\n\u001b[1;32m   8924\u001b[0m \u001b[38;5;250m    \u001b[39m\u001b[38;5;124;03m\"\"\"Page.goto\u001b[39;00m\n\u001b[1;32m   8925\u001b[0m \n\u001b[1;32m   8926\u001b[0m \u001b[38;5;124;03m    Returns the main resource response. In case of multiple redirects, the navigation will resolve with the first\u001b[39;00m\n\u001b[0;32m   (...)\u001b[0m\n\u001b[1;32m   8971\u001b[0m \u001b[38;5;124;03m    Union[Response, None]\u001b[39;00m\n\u001b[1;32m   8972\u001b[0m \u001b[38;5;124;03m    \"\"\"\u001b[39;00m\n\u001b[1;32m   8974\u001b[0m     \u001b[38;5;28;01mreturn\u001b[39;00m mapping\u001b[38;5;241m.\u001b[39mfrom_impl_nullable(\n\u001b[0;32m-> 8975\u001b[0m         \u001b[38;5;28;01mawait\u001b[39;00m \u001b[38;5;28mself\u001b[39m\u001b[38;5;241m.\u001b[39m_impl_obj\u001b[38;5;241m.\u001b[39mgoto(\n\u001b[1;32m   8976\u001b[0m             url\u001b[38;5;241m=\u001b[39murl, timeout\u001b[38;5;241m=\u001b[39mtimeout, waitUntil\u001b[38;5;241m=\u001b[39mwait_until, referer\u001b[38;5;241m=\u001b[39mreferer\n\u001b[1;32m   8977\u001b[0m         )\n\u001b[1;32m   8978\u001b[0m     )\n",
      "File \u001b[0;32m~/AGENTIC/myenv/lib/python3.10/site-packages/playwright/_impl/_page.py:556\u001b[0m, in \u001b[0;36mPage.goto\u001b[0;34m(self, url, timeout, waitUntil, referer)\u001b[0m\n\u001b[1;32m    549\u001b[0m \u001b[38;5;28;01masync\u001b[39;00m \u001b[38;5;28;01mdef\u001b[39;00m\u001b[38;5;250m \u001b[39m\u001b[38;5;21mgoto\u001b[39m(\n\u001b[1;32m    550\u001b[0m     \u001b[38;5;28mself\u001b[39m,\n\u001b[1;32m    551\u001b[0m     url: \u001b[38;5;28mstr\u001b[39m,\n\u001b[0;32m   (...)\u001b[0m\n\u001b[1;32m    554\u001b[0m     referer: \u001b[38;5;28mstr\u001b[39m \u001b[38;5;241m=\u001b[39m \u001b[38;5;28;01mNone\u001b[39;00m,\n\u001b[1;32m    555\u001b[0m ) \u001b[38;5;241m-\u001b[39m\u001b[38;5;241m>\u001b[39m Optional[Response]:\n\u001b[0;32m--> 556\u001b[0m     \u001b[38;5;28;01mreturn\u001b[39;00m \u001b[38;5;28;01mawait\u001b[39;00m \u001b[38;5;28mself\u001b[39m\u001b[38;5;241m.\u001b[39m_main_frame\u001b[38;5;241m.\u001b[39mgoto(\u001b[38;5;241m*\u001b[39m\u001b[38;5;241m*\u001b[39mlocals_to_params(\u001b[38;5;28mlocals\u001b[39m()))\n",
      "File \u001b[0;32m~/AGENTIC/myenv/lib/python3.10/site-packages/playwright/_impl/_frame.py:146\u001b[0m, in \u001b[0;36mFrame.goto\u001b[0;34m(self, url, timeout, waitUntil, referer)\u001b[0m\n\u001b[1;32m    136\u001b[0m \u001b[38;5;28;01masync\u001b[39;00m \u001b[38;5;28;01mdef\u001b[39;00m\u001b[38;5;250m \u001b[39m\u001b[38;5;21mgoto\u001b[39m(\n\u001b[1;32m    137\u001b[0m     \u001b[38;5;28mself\u001b[39m,\n\u001b[1;32m    138\u001b[0m     url: \u001b[38;5;28mstr\u001b[39m,\n\u001b[0;32m   (...)\u001b[0m\n\u001b[1;32m    141\u001b[0m     referer: \u001b[38;5;28mstr\u001b[39m \u001b[38;5;241m=\u001b[39m \u001b[38;5;28;01mNone\u001b[39;00m,\n\u001b[1;32m    142\u001b[0m ) \u001b[38;5;241m-\u001b[39m\u001b[38;5;241m>\u001b[39m Optional[Response]:\n\u001b[1;32m    143\u001b[0m     \u001b[38;5;28;01mreturn\u001b[39;00m cast(\n\u001b[1;32m    144\u001b[0m         Optional[Response],\n\u001b[1;32m    145\u001b[0m         from_nullable_channel(\n\u001b[0;32m--> 146\u001b[0m             \u001b[38;5;28;01mawait\u001b[39;00m \u001b[38;5;28mself\u001b[39m\u001b[38;5;241m.\u001b[39m_channel\u001b[38;5;241m.\u001b[39msend(\n\u001b[1;32m    147\u001b[0m                 \u001b[38;5;124m\"\u001b[39m\u001b[38;5;124mgoto\u001b[39m\u001b[38;5;124m\"\u001b[39m, \u001b[38;5;28mself\u001b[39m\u001b[38;5;241m.\u001b[39m_navigation_timeout, locals_to_params(\u001b[38;5;28mlocals\u001b[39m())\n\u001b[1;32m    148\u001b[0m             )\n\u001b[1;32m    149\u001b[0m         ),\n\u001b[1;32m    150\u001b[0m     )\n",
      "File \u001b[0;32m~/AGENTIC/myenv/lib/python3.10/site-packages/playwright/_impl/_connection.py:69\u001b[0m, in \u001b[0;36mChannel.send\u001b[0;34m(self, method, timeout_calculator, params, is_internal, title)\u001b[0m\n\u001b[1;32m     61\u001b[0m \u001b[38;5;28;01masync\u001b[39;00m \u001b[38;5;28;01mdef\u001b[39;00m\u001b[38;5;250m \u001b[39m\u001b[38;5;21msend\u001b[39m(\n\u001b[1;32m     62\u001b[0m     \u001b[38;5;28mself\u001b[39m,\n\u001b[1;32m     63\u001b[0m     method: \u001b[38;5;28mstr\u001b[39m,\n\u001b[0;32m   (...)\u001b[0m\n\u001b[1;32m     67\u001b[0m     title: \u001b[38;5;28mstr\u001b[39m \u001b[38;5;241m=\u001b[39m \u001b[38;5;28;01mNone\u001b[39;00m,\n\u001b[1;32m     68\u001b[0m ) \u001b[38;5;241m-\u001b[39m\u001b[38;5;241m>\u001b[39m Any:\n\u001b[0;32m---> 69\u001b[0m     \u001b[38;5;28;01mreturn\u001b[39;00m \u001b[38;5;28;01mawait\u001b[39;00m \u001b[38;5;28mself\u001b[39m\u001b[38;5;241m.\u001b[39m_connection\u001b[38;5;241m.\u001b[39mwrap_api_call(\n\u001b[1;32m     70\u001b[0m         \u001b[38;5;28;01mlambda\u001b[39;00m: \u001b[38;5;28mself\u001b[39m\u001b[38;5;241m.\u001b[39m_inner_send(method, timeout_calculator, params, \u001b[38;5;28;01mFalse\u001b[39;00m),\n\u001b[1;32m     71\u001b[0m         is_internal,\n\u001b[1;32m     72\u001b[0m         title,\n\u001b[1;32m     73\u001b[0m     )\n",
      "File \u001b[0;32m~/AGENTIC/myenv/lib/python3.10/site-packages/playwright/_impl/_connection.py:558\u001b[0m, in \u001b[0;36mConnection.wrap_api_call\u001b[0;34m(self, cb, is_internal, title)\u001b[0m\n\u001b[1;32m    556\u001b[0m     \u001b[38;5;28;01mreturn\u001b[39;00m \u001b[38;5;28;01mawait\u001b[39;00m cb()\n\u001b[1;32m    557\u001b[0m \u001b[38;5;28;01mexcept\u001b[39;00m \u001b[38;5;167;01mException\u001b[39;00m \u001b[38;5;28;01mas\u001b[39;00m error:\n\u001b[0;32m--> 558\u001b[0m     \u001b[38;5;28;01mraise\u001b[39;00m rewrite_error(error, \u001b[38;5;124mf\u001b[39m\u001b[38;5;124m\"\u001b[39m\u001b[38;5;132;01m{\u001b[39;00mparsed_st[\u001b[38;5;124m'\u001b[39m\u001b[38;5;124mapiName\u001b[39m\u001b[38;5;124m'\u001b[39m]\u001b[38;5;132;01m}\u001b[39;00m\u001b[38;5;124m: \u001b[39m\u001b[38;5;132;01m{\u001b[39;00merror\u001b[38;5;132;01m}\u001b[39;00m\u001b[38;5;124m\"\u001b[39m) \u001b[38;5;28;01mfrom\u001b[39;00m\u001b[38;5;250m \u001b[39m\u001b[38;5;28;01mNone\u001b[39;00m\n\u001b[1;32m    559\u001b[0m \u001b[38;5;28;01mfinally\u001b[39;00m:\n\u001b[1;32m    560\u001b[0m     \u001b[38;5;28mself\u001b[39m\u001b[38;5;241m.\u001b[39m_api_zone\u001b[38;5;241m.\u001b[39mset(\u001b[38;5;28;01mNone\u001b[39;00m)\n",
      "\u001b[0;31mError\u001b[0m: Page.goto: net::ERR_HTTP2_PROTOCOL_ERROR at https://www.myntra.com/\nCall log:\n  - navigating to \"https://www.myntra.com/\", waiting until \"load\"\n"
     ]
    }
   ],
   "source": [
    "instruction = \"Search for a brown Campus Sutra shirt on Myntra and return the product URL\"\n",
    "result = await run_web_task(instruction)\n",
    "print(\"✅ Final Result:\", result)\n"
   ]
  },
  {
   "cell_type": "code",
   "execution_count": null,
   "id": "73c1863b",
   "metadata": {},
   "outputs": [],
   "source": []
  }
 ],
 "metadata": {
  "kernelspec": {
   "display_name": "myenv",
   "language": "python",
   "name": "python3"
  },
  "language_info": {
   "codemirror_mode": {
    "name": "ipython",
    "version": 3
   },
   "file_extension": ".py",
   "mimetype": "text/x-python",
   "name": "python",
   "nbconvert_exporter": "python",
   "pygments_lexer": "ipython3",
   "version": "3.10.12"
  }
 },
 "nbformat": 4,
 "nbformat_minor": 5
}
